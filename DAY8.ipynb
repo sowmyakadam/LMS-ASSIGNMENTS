{
  "nbformat": 4,
  "nbformat_minor": 0,
  "metadata": {
    "colab": {
      "provenance": [],
      "authorship_tag": "ABX9TyNhg84QNkBkbSJqIa5Q74zP",
      "include_colab_link": true
    },
    "kernelspec": {
      "name": "python3",
      "display_name": "Python 3"
    },
    "language_info": {
      "name": "python"
    }
  },
  "cells": [
    {
      "cell_type": "markdown",
      "metadata": {
        "id": "view-in-github",
        "colab_type": "text"
      },
      "source": [
        "<a href=\"https://colab.research.google.com/github/sowmyakadam/LMS-ASSIGNMENTS/blob/main/DAY8.ipynb\" target=\"_parent\"><img src=\"https://colab.research.google.com/assets/colab-badge.svg\" alt=\"Open In Colab\"/></a>"
      ]
    },
    {
      "cell_type": "code",
      "execution_count": 4,
      "metadata": {
        "colab": {
          "base_uri": "https://localhost:8080/"
        },
        "id": "JfG0vHU91pFd",
        "outputId": "22ef5da3-55ab-409f-f7d2-ef3491433c02"
      },
      "outputs": [
        {
          "output_type": "stream",
          "name": "stderr",
          "text": [
            "[nltk_data] Downloading package punkt_tab to /root/nltk_data...\n"
          ]
        },
        {
          "output_type": "stream",
          "name": "stdout",
          "text": [
            "Original Paragraph: Natural Language Processing (NLP) is a fascinating field of study.\n",
            "It involves the interaction between computers and humans using natural language.\n",
            "There are many applications of NLP, such as sentiment analysis, language translation, and chatbots.\n",
            "\n",
            "Tokenized Sentences: ['Natural Language Processing (NLP) is a fascinating field of study.', 'It involves the interaction between computers and humans using natural language.', 'There are many applications of NLP, such as sentiment analysis, language translation, and chatbots.']\n",
            "\n",
            "Tokenized Words: ['Natural', 'Language', 'Processing', '(', 'NLP', ')', 'is', 'a', 'fascinating', 'field', 'of', 'study', '.', 'It', 'involves', 'the', 'interaction', 'between', 'computers', 'and', 'humans', 'using', 'natural', 'language', '.', 'There', 'are', 'many', 'applications', 'of', 'NLP', ',', 'such', 'as', 'sentiment', 'analysis', ',', 'language', 'translation', ',', 'and', 'chatbots', '.']\n"
          ]
        },
        {
          "output_type": "stream",
          "name": "stderr",
          "text": [
            "[nltk_data]   Unzipping tokenizers/punkt_tab.zip.\n"
          ]
        }
      ],
      "source": [
        "import nltk\n",
        "nltk.download('punkt_tab')\n",
        "\n",
        "paragraph = \"\"\"Natural Language Processing (NLP) is a fascinating field of study.\n",
        "It involves the interaction between computers and humans using natural language.\n",
        "There are many applications of NLP, such as sentiment analysis, language translation, and chatbots.\"\"\"\n",
        "\n",
        "sentences = nltk.sent_tokenize(paragraph)\n",
        "words = nltk.word_tokenize(paragraph)\n",
        "print(\"Original Paragraph:\", paragraph)\n",
        "print(\"\\nTokenized Sentences:\", sentences)\n",
        "print(\"\\nTokenized Words:\", words)"
      ]
    }
  ]
}