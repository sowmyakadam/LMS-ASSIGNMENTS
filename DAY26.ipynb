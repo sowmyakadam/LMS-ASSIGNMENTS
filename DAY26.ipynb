{
  "cells": [
    {
      "cell_type": "markdown",
      "metadata": {
        "id": "view-in-github",
        "colab_type": "text"
      },
      "source": [
        "<a href=\"https://colab.research.google.com/github/sowmyakadam/LMS-ASSIGNMENTS/blob/main/DAY26.ipynb\" target=\"_parent\"><img src=\"https://colab.research.google.com/assets/colab-badge.svg\" alt=\"Open In Colab\"/></a>"
      ]
    },
    {
      "cell_type": "code",
      "execution_count": 1,
      "id": "4e10caee",
      "metadata": {
        "colab": {
          "base_uri": "https://localhost:8080/"
        },
        "id": "4e10caee",
        "outputId": "69dcb055-21a4-49da-e7dc-3fcf0bcf0d51"
      },
      "outputs": [
        {
          "output_type": "stream",
          "name": "stdout",
          "text": [
            "Cosine Similarity: 0.5193\n"
          ]
        }
      ],
      "source": [
        "from sklearn.feature_extraction.text import TfidfVectorizer\n",
        "from sklearn.metrics.pairwise import cosine_similarity\n",
        "\n",
        "def calculate_cosine_similarity(text1, text2):\n",
        "    # Create a TfidfVectorizer instance\n",
        "    vectorizer = TfidfVectorizer()\n",
        "\n",
        "    # Transform texts into TF-IDF vectors\n",
        "    tfidf_matrix = vectorizer.fit_transform([text1, text2])\n",
        "\n",
        "    # Compute cosine similarity\n",
        "    similarity = cosine_similarity(tfidf_matrix[0], tfidf_matrix[1])\n",
        "\n",
        "    return similarity[0][0]\n",
        "\n",
        "# Example usage\n",
        "text1 = \"Machine learning is amazing.\"\n",
        "text2 = \"Deep learning is a subset of machine learning.\"\n",
        "similarity_score = calculate_cosine_similarity(text1, text2)\n",
        "print(f\"Cosine Similarity: {similarity_score:.4f}\")\n"
      ]
    },
    {
      "cell_type": "code",
      "execution_count": null,
      "id": "0aaa9e94",
      "metadata": {
        "id": "0aaa9e94"
      },
      "outputs": [],
      "source": []
    }
  ],
  "metadata": {
    "kernelspec": {
      "display_name": "Python 3 (ipykernel)",
      "language": "python",
      "name": "python3"
    },
    "language_info": {
      "codemirror_mode": {
        "name": "ipython",
        "version": 3
      },
      "file_extension": ".py",
      "mimetype": "text/x-python",
      "name": "python",
      "nbconvert_exporter": "python",
      "pygments_lexer": "ipython3",
      "version": "3.9.7"
    },
    "colab": {
      "provenance": [],
      "include_colab_link": true
    }
  },
  "nbformat": 4,
  "nbformat_minor": 5
}