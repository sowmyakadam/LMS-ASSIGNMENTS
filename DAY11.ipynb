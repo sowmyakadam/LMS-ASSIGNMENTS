{
  "cells": [
    {
      "cell_type": "markdown",
      "metadata": {
        "id": "view-in-github",
        "colab_type": "text"
      },
      "source": [
        "<a href=\"https://colab.research.google.com/github/sowmyakadam/LMS-ASSIGNMENTS/blob/main/DAY11.ipynb\" target=\"_parent\"><img src=\"https://colab.research.google.com/assets/colab-badge.svg\" alt=\"Open In Colab\"/></a>"
      ]
    },
    {
      "cell_type": "code",
      "execution_count": 2,
      "id": "a3785f4f",
      "metadata": {
        "colab": {
          "base_uri": "https://localhost:8080/"
        },
        "id": "a3785f4f",
        "outputId": "4ae3777b-22a0-4076-a015-5e0fedc27e63"
      },
      "outputs": [
        {
          "output_type": "stream",
          "name": "stderr",
          "text": [
            "[nltk_data] Downloading package punkt_tab to /root/nltk_data...\n",
            "[nltk_data]   Unzipping tokenizers/punkt_tab.zip.\n",
            "/usr/local/lib/python3.11/dist-packages/spacy/util.py:1740: UserWarning: [W111] Jupyter notebook detected: if using `prefer_gpu()` or `require_gpu()`, include it in the same cell right before `spacy.load()` to ensure that the model is loaded on the correct device. More information: http://spacy.io/usage/v3#jupyter-notebook-gpu\n",
            "  warnings.warn(Warnings.W111)\n"
          ]
        },
        {
          "output_type": "stream",
          "name": "stdout",
          "text": [
            "NLTK Sentence Tokenization: ['Natural Language Processing (NLP) is a fascinating field of AI.', 'It enables machines to understand, interpret, and generate human language.', 'Tokenization is the first step in text processing!']\n",
            "NLTK Word Tokenization: ['Natural', 'Language', 'Processing', '(', 'NLP', ')', 'is', 'a', 'fascinating', 'field', 'of', 'AI', '.', 'It', 'enables', 'machines', 'to', 'understand', ',', 'interpret', ',', 'and', 'generate', 'human', 'language', '.', 'Tokenization', 'is', 'the', 'first', 'step', 'in', 'text', 'processing', '!']\n",
            "\n",
            "SpaCy Sentence Tokenization: ['Natural Language Processing (NLP) is a fascinating field of AI. \\n', 'It enables machines to understand, interpret, and generate human language. \\n', 'Tokenization is the first step in text processing!']\n",
            "SpaCy Word Tokenization: ['Natural', 'Language', 'Processing', '(', 'NLP', ')', 'is', 'a', 'fascinating', 'field', 'of', 'AI', '.', '\\n', 'It', 'enables', 'machines', 'to', 'understand', ',', 'interpret', ',', 'and', 'generate', 'human', 'language', '.', '\\n', 'Tokenization', 'is', 'the', 'first', 'step', 'in', 'text', 'processing', '!']\n"
          ]
        }
      ],
      "source": [
        "import nltk\n",
        "import spacy\n",
        "\n",
        "# Download the NLTK tokenizer if not already available\n",
        "nltk.download('punkt_tab')\n",
        "\n",
        "# Load SpaCy's English model\n",
        "nlp = spacy.load(\"en_core_web_sm\")\n",
        "\n",
        "# Sample paragraph\n",
        "text = \"\"\"Natural Language Processing (NLP) is a fascinating field of AI.\n",
        "It enables machines to understand, interpret, and generate human language.\n",
        "Tokenization is the first step in text processing!\"\"\"\n",
        "\n",
        "# Tokenization using NLTK\n",
        "def nltk_tokenize(text):\n",
        "    sentences = nltk.sent_tokenize(text)  # Sentence tokenization\n",
        "    words = nltk.word_tokenize(text)  # Word tokenization\n",
        "    return sentences, words\n",
        "\n",
        "# Tokenization using SpaCy\n",
        "def spacy_tokenize(text):\n",
        "    doc = nlp(text)\n",
        "    sentences = [sent.text for sent in doc.sents]  # Sentence tokenization\n",
        "    words = [token.text for token in doc]  # Word tokenization\n",
        "    return sentences, words\n",
        "\n",
        "# Using NLTK\n",
        "nltk_sentences, nltk_words = nltk_tokenize(text)\n",
        "print(\"NLTK Sentence Tokenization:\", nltk_sentences)\n",
        "print(\"NLTK Word Tokenization:\", nltk_words)\n",
        "\n",
        "# Using SpaCy\n",
        "spacy_sentences, spacy_words = spacy_tokenize(text)\n",
        "print(\"\\nSpaCy Sentence Tokenization:\", spacy_sentences)\n",
        "print(\"SpaCy Word Tokenization:\", spacy_words)\n"
      ]
    },
    {
      "cell_type": "code",
      "execution_count": null,
      "id": "d6649e08",
      "metadata": {
        "id": "d6649e08"
      },
      "outputs": [],
      "source": []
    }
  ],
  "metadata": {
    "kernelspec": {
      "display_name": "Python 3 (ipykernel)",
      "language": "python",
      "name": "python3"
    },
    "language_info": {
      "codemirror_mode": {
        "name": "ipython",
        "version": 3
      },
      "file_extension": ".py",
      "mimetype": "text/x-python",
      "name": "python",
      "nbconvert_exporter": "python",
      "pygments_lexer": "ipython3",
      "version": "3.9.7"
    },
    "colab": {
      "provenance": [],
      "include_colab_link": true
    }
  },
  "nbformat": 4,
  "nbformat_minor": 5
}