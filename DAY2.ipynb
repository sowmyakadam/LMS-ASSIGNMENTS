{
  "nbformat": 4,
  "nbformat_minor": 0,
  "metadata": {
    "colab": {
      "provenance": [],
      "authorship_tag": "ABX9TyN/8AmJ+uiQYqwtb44ozNcH",
      "include_colab_link": true
    },
    "kernelspec": {
      "name": "python3",
      "display_name": "Python 3"
    },
    "language_info": {
      "name": "python"
    }
  },
  "cells": [
    {
      "cell_type": "markdown",
      "metadata": {
        "id": "view-in-github",
        "colab_type": "text"
      },
      "source": [
        "<a href=\"https://colab.research.google.com/github/sowmyakadam/LMS-ASSIGNMENTS/blob/main/DAY2.ipynb\" target=\"_parent\"><img src=\"https://colab.research.google.com/assets/colab-badge.svg\" alt=\"Open In Colab\"/></a>"
      ]
    },
    {
      "cell_type": "code",
      "execution_count": 1,
      "metadata": {
        "colab": {
          "base_uri": "https://localhost:8080/"
        },
        "id": "nW0u7-q8pAtS",
        "outputId": "f208b4e0-2d2f-4eed-f3ab-0c50eee845f2"
      },
      "outputs": [
        {
          "output_type": "stream",
          "name": "stdout",
          "text": [
            "10\n",
            "30\n",
            "50\n"
          ]
        }
      ],
      "source": [
        "my_list = [10, 20, 30, 40, 50]\n",
        "print(my_list[0])\n",
        "print(my_list[2])\n",
        "print(my_list[-1])"
      ]
    },
    {
      "cell_type": "code",
      "source": [
        "my_tuple = (1, 2, 3, 4, 5)\n",
        "print(my_tuple[0])\n",
        "print(my_tuple[2])\n",
        "print(my_tuple[-1])"
      ],
      "metadata": {
        "colab": {
          "base_uri": "https://localhost:8080/"
        },
        "id": "w4u1VFSLpDeM",
        "outputId": "de223e56-a73f-4953-e998-c21dae37fb7a"
      },
      "execution_count": 2,
      "outputs": [
        {
          "output_type": "stream",
          "name": "stdout",
          "text": [
            "1\n",
            "3\n",
            "5\n"
          ]
        }
      ]
    },
    {
      "cell_type": "code",
      "source": [
        "my_dict = {\"a\": 100, \"b\": 200, \"c\": 300, \"d\": 400, \"e\": 500}\n",
        "\n",
        "print(my_dict[\"a\"])\n",
        "print(my_dict[\"c\"])\n",
        "print(my_dict[\"e\"])"
      ],
      "metadata": {
        "colab": {
          "base_uri": "https://localhost:8080/"
        },
        "id": "VrPpvyx9pDo7",
        "outputId": "0a0428ed-1655-40db-ba72-6174d8f3818f"
      },
      "execution_count": 3,
      "outputs": [
        {
          "output_type": "stream",
          "name": "stdout",
          "text": [
            "100\n",
            "300\n",
            "500\n"
          ]
        }
      ]
    }
  ]
}