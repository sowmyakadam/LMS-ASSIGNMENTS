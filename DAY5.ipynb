{
  "nbformat": 4,
  "nbformat_minor": 0,
  "metadata": {
    "colab": {
      "provenance": [],
      "authorship_tag": "ABX9TyNxqMi0tC7b18onRU50cKiB",
      "include_colab_link": true
    },
    "kernelspec": {
      "name": "python3",
      "display_name": "Python 3"
    },
    "language_info": {
      "name": "python"
    }
  },
  "cells": [
    {
      "cell_type": "markdown",
      "metadata": {
        "id": "view-in-github",
        "colab_type": "text"
      },
      "source": [
        "<a href=\"https://colab.research.google.com/github/sowmyakadam/LMS-ASSIGNMENTS/blob/main/DAY5.ipynb\" target=\"_parent\"><img src=\"https://colab.research.google.com/assets/colab-badge.svg\" alt=\"Open In Colab\"/></a>"
      ]
    },
    {
      "cell_type": "code",
      "execution_count": 1,
      "metadata": {
        "colab": {
          "base_uri": "https://localhost:8080/"
        },
        "id": "y1QMwSs2qeP0",
        "outputId": "52603699-44cc-4233-9150-33a25f193790"
      },
      "outputs": [
        {
          "output_type": "stream",
          "name": "stdout",
          "text": [
            "the: 3\n",
            "quick: 1\n",
            "brown: 1\n",
            "fox: 1\n",
            "jumps: 1\n",
            "over: 1\n",
            "lazy: 1\n",
            "dog: 2\n"
          ]
        }
      ],
      "source": [
        "def calculate_word_frequency(text):\n",
        "    words = text.split()\n",
        "    word_frequency = {}\n",
        "    for word in words:\n",
        "        if word in word_frequency:\n",
        "            word_frequency[word] += 1\n",
        "        else:\n",
        "            word_frequency[word] = 1\n",
        "\n",
        "    for word, count in word_frequency.items():\n",
        "        print(f'{word}: {count}')\n",
        "\n",
        "text = \"the quick brown fox jumps over the lazy dog the dog\"\n",
        "calculate_word_frequency(text)"
      ]
    }
  ]
}