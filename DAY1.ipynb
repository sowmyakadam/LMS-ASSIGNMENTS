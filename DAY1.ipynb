{
  "nbformat": 4,
  "nbformat_minor": 0,
  "metadata": {
    "colab": {
      "provenance": [],
      "authorship_tag": "ABX9TyPdpd1qJgM7ujoI4Dcy3XdE",
      "include_colab_link": true
    },
    "kernelspec": {
      "name": "python3",
      "display_name": "Python 3"
    },
    "language_info": {
      "name": "python"
    }
  },
  "cells": [
    {
      "cell_type": "markdown",
      "metadata": {
        "id": "view-in-github",
        "colab_type": "text"
      },
      "source": [
        "<a href=\"https://colab.research.google.com/github/sowmyakadam/LMS-ASSIGNMENTS/blob/main/DAY1.ipynb\" target=\"_parent\"><img src=\"https://colab.research.google.com/assets/colab-badge.svg\" alt=\"Open In Colab\"/></a>"
      ]
    },
    {
      "cell_type": "code",
      "execution_count": 1,
      "metadata": {
        "colab": {
          "base_uri": "https://localhost:8080/"
        },
        "id": "88-Ueb6CoWWb",
        "outputId": "7a269a34-f472-4f1d-bed9-aa1294cdd4ec"
      },
      "outputs": [
        {
          "metadata": {
            "tags": null
          },
          "name": "stdout",
          "output_type": "stream",
          "text": [
            "Integer variable: 10  Type: <class 'int'>\n",
            "Float variable: 3.14  Type: <class 'float'>\n",
            "String variable: Hello, World!  Type: <class 'str'>\n",
            "Boolean variable: True  Type: <class 'bool'>\n"
          ]
        }
      ],
      "source": [
        "integer_var = 10\n",
        "float_var = 3.14\n",
        "string_var = \"Hello, World!\"\n",
        "boolean_var = True\n",
        "\n",
        "print(\"Integer variable:\", integer_var, \" Type:\", type(integer_var))\n",
        "print(\"Float variable:\", float_var, \" Type:\", type(float_var))\n",
        "print(\"String variable:\", string_var, \" Type:\", type(string_var))\n",
        "print(\"Boolean variable:\", boolean_var, \" Type:\", type(boolean_var))\n"
      ]
    }
  ]
}