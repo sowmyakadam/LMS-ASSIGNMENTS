{
  "cells": [
    {
      "cell_type": "markdown",
      "metadata": {
        "id": "view-in-github",
        "colab_type": "text"
      },
      "source": [
        "<a href=\"https://colab.research.google.com/github/sowmyakadam/LMS-ASSIGNMENTS/blob/main/DAY32.ipynb\" target=\"_parent\"><img src=\"https://colab.research.google.com/assets/colab-badge.svg\" alt=\"Open In Colab\"/></a>"
      ]
    },
    {
      "cell_type": "code",
      "execution_count": 1,
      "id": "986bda65",
      "metadata": {
        "colab": {
          "base_uri": "https://localhost:8080/"
        },
        "id": "986bda65",
        "outputId": "c2815a15-2fc9-4ddb-e9d2-65df033438b4"
      },
      "outputs": [
        {
          "output_type": "stream",
          "name": "stdout",
          "text": [
            "Requirement already satisfied: nltk in /usr/local/lib/python3.11/dist-packages (3.9.1)\n",
            "Requirement already satisfied: click in /usr/local/lib/python3.11/dist-packages (from nltk) (8.1.8)\n",
            "Requirement already satisfied: joblib in /usr/local/lib/python3.11/dist-packages (from nltk) (1.4.2)\n",
            "Requirement already satisfied: regex>=2021.8.3 in /usr/local/lib/python3.11/dist-packages (from nltk) (2024.11.6)\n",
            "Requirement already satisfied: tqdm in /usr/local/lib/python3.11/dist-packages (from nltk) (4.67.1)\n"
          ]
        }
      ],
      "source": [
        "pip install nltk"
      ]
    },
    {
      "cell_type": "code",
      "execution_count": 2,
      "id": "055d5753",
      "metadata": {
        "colab": {
          "base_uri": "https://localhost:8080/"
        },
        "id": "055d5753",
        "outputId": "17f0e6dd-f190-4e38-8e50-a5c9cf860a8d"
      },
      "outputs": [
        {
          "output_type": "stream",
          "name": "stderr",
          "text": [
            "[nltk_data] Downloading package punkt_tab to /root/nltk_data...\n",
            "[nltk_data]   Unzipping tokenizers/punkt_tab.zip.\n"
          ]
        },
        {
          "output_type": "execute_result",
          "data": {
            "text/plain": [
              "True"
            ]
          },
          "metadata": {},
          "execution_count": 2
        }
      ],
      "source": [
        "import nltk\n",
        "nltk.download('punkt_tab')\n"
      ]
    },
    {
      "cell_type": "code",
      "execution_count": 3,
      "id": "dc1131aa",
      "metadata": {
        "colab": {
          "base_uri": "https://localhost:8080/"
        },
        "id": "dc1131aa",
        "outputId": "9ff90141-aefd-498b-c9aa-e10ff24513b1"
      },
      "outputs": [
        {
          "output_type": "stream",
          "name": "stdout",
          "text": [
            "Top 5 most frequent tokens:\n",
            ",: 0.0538\n",
            "and: 0.0538\n",
            "is: 0.0430\n",
            ".: 0.0430\n",
            "intelligence: 0.0430\n"
          ]
        }
      ],
      "source": [
        "import nltk\n",
        "from nltk.tokenize import word_tokenize\n",
        "from collections import Counter\n",
        "\n",
        "# Predefined text (you can replace this with any text you'd like)\n",
        "text = \"\"\"\n",
        "Data science is an inter-disciplinary field that uses scientific methods, processes, algorithms, and systems to extract knowledge and insights from structured and unstructured data. Machine learning is a method of data analysis that automates analytical model building. It is a branch of artificial intelligence based on the idea that systems can learn from data, identify patterns and make decisions with minimal human intervention. Artificial intelligence (AI) is intelligence demonstrated by machines, in contrast to the natural intelligence displayed by humans and animals.\n",
        "\"\"\"\n",
        "\n",
        "# Function to calculate Term Frequency (TF)\n",
        "def calculate_tf(tokens):\n",
        "    # Create a Counter object to count the frequency of each token\n",
        "    token_counts = Counter(tokens)\n",
        "\n",
        "    # Calculate term frequency (TF) by dividing each token's count by the total number of tokens\n",
        "    total_tokens = len(tokens)\n",
        "    tf = {word: count / total_tokens for word, count in token_counts.items()}\n",
        "\n",
        "    return tf\n",
        "\n",
        "# Function to get the top 5 most frequent tokens\n",
        "def get_top_5_tokens(tf):\n",
        "    # Sort the tokens by TF in descending order and get the top 5\n",
        "    sorted_tf = sorted(tf.items(), key=lambda x: x[1], reverse=True)\n",
        "    return sorted_tf[:5]\n",
        "\n",
        "# Tokenize the text\n",
        "tokens = word_tokenize(text)\n",
        "\n",
        "# Calculate Term Frequency (TF)\n",
        "tf = calculate_tf(tokens)\n",
        "\n",
        "# Get the top 5 most frequent tokens\n",
        "top_5_tokens = get_top_5_tokens(tf)\n",
        "\n",
        "# Display the top 5 most frequent tokens and their TF\n",
        "print(\"Top 5 most frequent tokens:\")\n",
        "for word, freq in top_5_tokens:\n",
        "    print(f\"{word}: {freq:.4f}\")\n"
      ]
    },
    {
      "cell_type": "code",
      "execution_count": null,
      "id": "4ea71be4",
      "metadata": {
        "id": "4ea71be4"
      },
      "outputs": [],
      "source": []
    }
  ],
  "metadata": {
    "kernelspec": {
      "display_name": "Python 3 (ipykernel)",
      "language": "python",
      "name": "python3"
    },
    "language_info": {
      "codemirror_mode": {
        "name": "ipython",
        "version": 3
      },
      "file_extension": ".py",
      "mimetype": "text/x-python",
      "name": "python",
      "nbconvert_exporter": "python",
      "pygments_lexer": "ipython3",
      "version": "3.9.12"
    },
    "colab": {
      "provenance": [],
      "include_colab_link": true
    }
  },
  "nbformat": 4,
  "nbformat_minor": 5
}